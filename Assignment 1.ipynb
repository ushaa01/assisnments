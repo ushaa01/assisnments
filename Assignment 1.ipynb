{
 "cells": [
  {
   "cell_type": "markdown",
   "id": "42b9633d",
   "metadata": {},
   "source": [
    "1. In the below elements which of them are values or an expression? eg:- values can be\n",
    "integer or string and expressions will be mathematical operators.\n",
    "*\n",
    "&#39;hello&#39;\n",
    "-87.8\n",
    "-\n",
    "/\n",
    "+\n",
    "6"
   ]
  },
  {
   "cell_type": "markdown",
   "id": "ecec5381",
   "metadata": {},
   "source": [
    "Ans Values are hello,-87.8,6\n",
    "    Expressions are -,/,+"
   ]
  },
  {
   "cell_type": "markdown",
   "id": "cf6dbf9d",
   "metadata": {},
   "source": [
    "2. What is the difference between string and variable?"
   ]
  },
  {
   "cell_type": "markdown",
   "id": "f0687272",
   "metadata": {},
   "source": [
    "Ans.) String is a series of characters.Anything inside a single or double quotes is considered a string in Python.String is type of information\n",
    "Whereas variable is store of information.We store information or value in a variable."
   ]
  },
  {
   "cell_type": "markdown",
   "id": "3f505c62",
   "metadata": {},
   "source": [
    "3. Describe three different data types."
   ]
  },
  {
   "cell_type": "markdown",
   "id": "ec71edd9",
   "metadata": {},
   "source": [
    "Three different types of data types are:\n",
    "Numeric:Numeric datatype represents the data which has numeric values. these can be integers,floating numbers or even complex numbers\n",
    "List:\n",
    "List is an ordered collection of data.Items in list need not to be of same type.\n",
    "Tuple:Tuple is also an ordered collection of objects.Only differrence between list and tuples is that Tuples are immutable i.e.tuples cannot be modified after it is created.\n",
    "\n",
    "\n"
   ]
  },
  {
   "cell_type": "markdown",
   "id": "fd03951b",
   "metadata": {},
   "source": [
    "4. What is an expression made up of? What do all expressions do?"
   ]
  },
  {
   "cell_type": "markdown",
   "id": "d297b3de",
   "metadata": {},
   "source": [
    "An expression is made up of combination of symbols(variabe,constant,operators) which represent a value.An expression must have at least one operand(variable or constant)and one or more operators.After evaluating an expression we get a value.\n",
    "eg. a=10(in this a is a variable operand and 10 is a constant operand whereas '=' is an assignment operator) and this represent an expression."
   ]
  },
  {
   "cell_type": "markdown",
   "id": "563b2313",
   "metadata": {},
   "source": [
    "5.) This assignment statements, like spam = 10. What is the difference between an\n",
    "expression and a statement?"
   ]
  },
  {
   "cell_type": "markdown",
   "id": "5419421e",
   "metadata": {},
   "source": [
    "An expression consists of a combination of operators and operands like in the given statement spam=10 ,spam and 10 are operands and '=' is an operator.\n",
    "Every expression is a statement but every statement  may not be an expression like print(\"hello\") is a statement but not an expression."
   ]
  },
  {
   "cell_type": "markdown",
   "id": "4371eb6c",
   "metadata": {},
   "source": [
    "6. After running the following code, what does the variable bacon contain?\n",
    "bacon = 22\n",
    "bacon + 1"
   ]
  },
  {
   "cell_type": "code",
   "execution_count": 1,
   "id": "f29671f6",
   "metadata": {},
   "outputs": [],
   "source": [
    "bacon =22"
   ]
  },
  {
   "cell_type": "code",
   "execution_count": 2,
   "id": "6f76e60c",
   "metadata": {},
   "outputs": [
    {
     "data": {
      "text/plain": [
       "23"
      ]
     },
     "execution_count": 2,
     "metadata": {},
     "output_type": "execute_result"
    }
   ],
   "source": [
    "bacon+1"
   ]
  },
  {
   "cell_type": "markdown",
   "id": "44c2da49",
   "metadata": {},
   "source": [
    "7. What should the values of the following two terms be?\n",
    "&#39;spam&#39; + &#39;spamspam&#39;\n",
    "&#39;spam&#39; * 3"
   ]
  },
  {
   "cell_type": "code",
   "execution_count": 9,
   "id": "b52c128f",
   "metadata": {},
   "outputs": [
    {
     "data": {
      "text/plain": [
       "'spamspamspam'"
      ]
     },
     "execution_count": 9,
     "metadata": {},
     "output_type": "execute_result"
    }
   ],
   "source": [
    "\"spam\" +\"spam\"\"spam\""
   ]
  },
  {
   "cell_type": "code",
   "execution_count": 10,
   "id": "96eb36e2",
   "metadata": {},
   "outputs": [
    {
     "data": {
      "text/plain": [
       "'spamspamspam'"
      ]
     },
     "execution_count": 10,
     "metadata": {},
     "output_type": "execute_result"
    }
   ],
   "source": [
    "\"spam\"*3"
   ]
  },
  {
   "cell_type": "markdown",
   "id": "28655ccf",
   "metadata": {},
   "source": [
    "The output is same in both cases."
   ]
  },
  {
   "cell_type": "markdown",
   "id": "55a84401",
   "metadata": {},
   "source": [
    "8. Why is eggs a valid variable name while 100 is invalid?"
   ]
  },
  {
   "cell_type": "markdown",
   "id": "b556ec0d",
   "metadata": {},
   "source": [
    "Because variable names cannot begin with a number."
   ]
  },
  {
   "cell_type": "markdown",
   "id": "407f1adf",
   "metadata": {},
   "source": [
    "9. What three functions can be used to get the integer, floating-point number, or string\n",
    "version of a value?"
   ]
  },
  {
   "cell_type": "markdown",
   "id": "603e30cf",
   "metadata": {},
   "source": [
    "int for integer values,\n",
    "float for floating point numbers,\n",
    "str for string  "
   ]
  },
  {
   "cell_type": "markdown",
   "id": "ccd708de",
   "metadata": {},
   "source": [
    "10. Why does this expression cause an error? How can you fix it?\n",
    "&#39;I have eaten &#39; + 99 + &#39; burritos.&#39;"
   ]
  },
  {
   "cell_type": "markdown",
   "id": "71b10bbb",
   "metadata": {},
   "source": [
    "This expression caused and error because concatination operation is done on same datatypes,here we were trying to concatinate string to int which will give an error unless and untill we do the typecasting."
   ]
  },
  {
   "cell_type": "code",
   "execution_count": 15,
   "id": "17cc9731",
   "metadata": {},
   "outputs": [
    {
     "data": {
      "text/plain": [
       "'I have eaten 99burritos.'"
      ]
     },
     "execution_count": 15,
     "metadata": {},
     "output_type": "execute_result"
    }
   ],
   "source": [
    "'I have eaten '+ \"99\" + 'burritos.'"
   ]
  }
 ],
 "metadata": {
  "kernelspec": {
   "display_name": "Python 3 (ipykernel)",
   "language": "python",
   "name": "python3"
  },
  "language_info": {
   "codemirror_mode": {
    "name": "ipython",
    "version": 3
   },
   "file_extension": ".py",
   "mimetype": "text/x-python",
   "name": "python",
   "nbconvert_exporter": "python",
   "pygments_lexer": "ipython3",
   "version": "3.9.13"
  }
 },
 "nbformat": 4,
 "nbformat_minor": 5
}

{
 "cells": [
  {
   "cell_type": "markdown",
   "id": "f1ec57fb",
   "metadata": {},
   "source": [
    " 1. Why are functions advantageous to have in your programs?"
   ]
  },
  {
   "cell_type": "raw",
   "id": "78717dc0",
   "metadata": {},
   "source": [
    "Functions are very useful during programming as it first of all reduces duplication of code and alse it saves our time."
   ]
  },
  {
   "cell_type": "markdown",
   "id": "1732de30",
   "metadata": {},
   "source": [
    "2. When does the code in a function run: when it's specified or when it's called?"
   ]
  },
  {
   "cell_type": "raw",
   "id": "d65c68e0",
   "metadata": {},
   "source": [
    "The code in a function executes when the function is called,not when the function is defined."
   ]
  },
  {
   "cell_type": "markdown",
   "id": "05ad8a87",
   "metadata": {},
   "source": [
    "3. What statement creates a function?"
   ]
  },
  {
   "cell_type": "raw",
   "id": "9bb4d71b",
   "metadata": {},
   "source": [
    "The 'def' keyword is a statement that is used to create a function in python.You start a function with the def keyword,specify a name followed by a colon(:)sign.The \"def\" call creates the function object and assigns it to the name given."
   ]
  },
  {
   "cell_type": "markdown",
   "id": "490c591d",
   "metadata": {},
   "source": [
    "4. What is the difference between a function and a function call?"
   ]
  },
  {
   "cell_type": "raw",
   "id": "2d55da63",
   "metadata": {},
   "source": [
    "Function is a part of program defined separately outside the program whereas function call is calling of the function inside the program."
   ]
  },
  {
   "cell_type": "markdown",
   "id": "cde9a5a6",
   "metadata": {},
   "source": [
    "5. How many global scopes are there in a Python program? How many local scopes?"
   ]
  },
  {
   "cell_type": "raw",
   "id": "79544653",
   "metadata": {},
   "source": [
    "There is one global scope and a local scope is created whenever a function is called."
   ]
  },
  {
   "cell_type": "markdown",
   "id": "cd5361b2",
   "metadata": {},
   "source": [
    "6. What happens to variables in a local scope when the function call returns?"
   ]
  },
  {
   "cell_type": "raw",
   "id": "7bf1d312",
   "metadata": {},
   "source": [
    "When a function call returns,the life of the local variable expires."
   ]
  },
  {
   "cell_type": "markdown",
   "id": "72d138a9",
   "metadata": {},
   "source": [
    "7. What is the concept of a return value? Is it possible to have a return value in an expression?\n"
   ]
  },
  {
   "cell_type": "raw",
   "id": "de762edc",
   "metadata": {},
   "source": [
    "A return statement is used to end the execution of the function call and 'returns'the result.Yes, it can be used as a part of an expression."
   ]
  },
  {
   "cell_type": "markdown",
   "id": "d0a007d6",
   "metadata": {},
   "source": [
    "8. If a function does not have a return statement, what is the return value of a call to that function?"
   ]
  },
  {
   "cell_type": "raw",
   "id": "2892b1ef",
   "metadata": {},
   "source": [
    "If there is no return statement,its return value is None."
   ]
  },
  {
   "cell_type": "markdown",
   "id": "39875d97",
   "metadata": {},
   "source": [
    "9. How do you make a function variable refer to the global variable?"
   ]
  },
  {
   "cell_type": "raw",
   "id": "2e01c580",
   "metadata": {},
   "source": [
    "To make a global variable inside a function,we can use the global keyword."
   ]
  },
  {
   "cell_type": "markdown",
   "id": "f937ebc9",
   "metadata": {},
   "source": [
    "10. What is the data type of None?"
   ]
  },
  {
   "cell_type": "raw",
   "id": "343a048c",
   "metadata": {},
   "source": [
    "The data type of None is None type."
   ]
  },
  {
   "cell_type": "markdown",
   "id": "fd25e856",
   "metadata": {},
   "source": [
    "11. What does the sentence import areallyourpetsnamederic do?"
   ]
  },
  {
   "cell_type": "raw",
   "id": "ef162450",
   "metadata": {},
   "source": [
    "The import statement imports a module named areallyourpetsnamederic."
   ]
  },
  {
   "cell_type": "markdown",
   "id": "19f1ad50",
   "metadata": {},
   "source": [
    "12. If you had a bacon() feature in a spam module, what would you call it after importing spam?"
   ]
  },
  {
   "cell_type": "raw",
   "id": "4eb758b7",
   "metadata": {},
   "source": [
    "spam.bacon()"
   ]
  },
  {
   "cell_type": "markdown",
   "id": "10275ced",
   "metadata": {},
   "source": [
    "13. What can you do to save a programme from crashing if it encounters an error?"
   ]
  },
  {
   "cell_type": "raw",
   "id": "74a36267",
   "metadata": {},
   "source": [
    "By using try clause."
   ]
  },
  {
   "cell_type": "markdown",
   "id": "2c6f65dc",
   "metadata": {},
   "source": [
    "14. What is the purpose of the try clause? What is the purpose of the except clause?"
   ]
  },
  {
   "cell_type": "raw",
   "id": "4dc31055",
   "metadata": {},
   "source": [
    "The try block lets you test of code for errors while except block lets you handle the error."
   ]
  },
  {
   "cell_type": "code",
   "execution_count": null,
   "id": "edeb47bf",
   "metadata": {},
   "outputs": [],
   "source": []
  }
 ],
 "metadata": {
  "kernelspec": {
   "display_name": "Python 3 (ipykernel)",
   "language": "python",
   "name": "python3"
  },
  "language_info": {
   "codemirror_mode": {
    "name": "ipython",
    "version": 3
   },
   "file_extension": ".py",
   "mimetype": "text/x-python",
   "name": "python",
   "nbconvert_exporter": "python",
   "pygments_lexer": "ipython3",
   "version": "3.9.13"
  }
 },
 "nbformat": 4,
 "nbformat_minor": 5
}

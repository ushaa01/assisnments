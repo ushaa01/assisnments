{
 "cells": [
  {
   "cell_type": "markdown",
   "id": "20cff403",
   "metadata": {},
   "source": [
    "1.What are the two values of the Boolean data type? How do you write them?"
   ]
  },
  {
   "cell_type": "markdown",
   "id": "1691b75a",
   "metadata": {},
   "source": [
    "Two values of Boolean data type is TRUE and FALSE.\n",
    "True and False are written with 1st letter capital.\n",
    "True represent 1 and False represent 0."
   ]
  },
  {
   "cell_type": "markdown",
   "id": "227d83ae",
   "metadata": {},
   "source": [
    "2. What are the three different types of Boolean operators?"
   ]
  },
  {
   "cell_type": "markdown",
   "id": "161cc328",
   "metadata": {},
   "source": [
    "Three different boolean operators in Python are\n",
    "1.)AND\n",
    "2.)OR\n",
    "3.)NOT"
   ]
  },
  {
   "cell_type": "markdown",
   "id": "72406450",
   "metadata": {},
   "source": [
    "3. Make a list of each Boolean operator's truth tables (i.e. every possible combination of Boolean values for the operator and what it evaluate )."
   ]
  },
  {
   "cell_type": "markdown",
   "id": "e97f85fc",
   "metadata": {},
   "source": [
    "        And\n",
    "A\t   B\t     A and B\n",
    "True \tTrue\tTrue\n",
    "True\tFalse\tFalse\n",
    "False\tTrue\tFalse\n",
    "False\tFalse\tFalse\n",
    "\n",
    "        or\n",
    "A\t     B\t     A or  B\n",
    "True \tTrue\t True\n",
    "True\tFalse\t True\n",
    "False\tTrue\t True\n",
    "False\tFalse\t False\n",
    "        \n",
    "         NOT\n",
    "A\t     Not A\n",
    "True \tFalse\n",
    "False   True\n",
    "\n",
    "         "
   ]
  },
  {
   "cell_type": "markdown",
   "id": "ab668cb2",
   "metadata": {},
   "source": [
    "4. What are the values of the following expressions?\n",
    "(5 > 4) and (3 == 5)\n",
    "not (5 > 4)\n",
    "(5 > 4) or (3 == 5)\n",
    "not ((5 > 4) or (3 == 5))\n",
    "(True and True) and (True == False)\n",
    "(not False) or (not True)\n",
    "\n"
   ]
  },
  {
   "cell_type": "code",
   "execution_count": 2,
   "id": "18e70282",
   "metadata": {},
   "outputs": [
    {
     "data": {
      "text/plain": [
       "False"
      ]
     },
     "execution_count": 2,
     "metadata": {},
     "output_type": "execute_result"
    }
   ],
   "source": [
    "(5 > 4) and (3 == 5)"
   ]
  },
  {
   "cell_type": "code",
   "execution_count": 3,
   "id": "9e98cace",
   "metadata": {},
   "outputs": [
    {
     "data": {
      "text/plain": [
       "False"
      ]
     },
     "execution_count": 3,
     "metadata": {},
     "output_type": "execute_result"
    }
   ],
   "source": [
    "not (5 > 4)"
   ]
  },
  {
   "cell_type": "code",
   "execution_count": 4,
   "id": "05f984f3",
   "metadata": {},
   "outputs": [
    {
     "data": {
      "text/plain": [
       "True"
      ]
     },
     "execution_count": 4,
     "metadata": {},
     "output_type": "execute_result"
    }
   ],
   "source": [
    "(5 > 4) or (3 == 5)"
   ]
  },
  {
   "cell_type": "code",
   "execution_count": 5,
   "id": "d63fbf91",
   "metadata": {},
   "outputs": [
    {
     "data": {
      "text/plain": [
       "False"
      ]
     },
     "execution_count": 5,
     "metadata": {},
     "output_type": "execute_result"
    }
   ],
   "source": [
    "(True and True) and (True == False)"
   ]
  },
  {
   "cell_type": "code",
   "execution_count": 6,
   "id": "1d25262d",
   "metadata": {},
   "outputs": [
    {
     "data": {
      "text/plain": [
       "True"
      ]
     },
     "execution_count": 6,
     "metadata": {},
     "output_type": "execute_result"
    }
   ],
   "source": [
    "(not False) or (not True)"
   ]
  },
  {
   "cell_type": "markdown",
   "id": "59a0f373",
   "metadata": {},
   "source": [
    "5. What are the six comparison operators?"
   ]
  },
  {
   "cell_type": "markdown",
   "id": "163e41c3",
   "metadata": {},
   "source": [
    "The six comparison operators in Python are \n",
    "1.) Less than(<)\n",
    "2.) Greater than(>)\n",
    "3.)Less than or equal to(<=)\n",
    "4.)Greater than or equal to(>=)\n",
    "5.)Equal to(==)\n",
    "6.)Not equal to(!=)"
   ]
  },
  {
   "cell_type": "markdown",
   "id": "692355e9",
   "metadata": {},
   "source": [
    "6. How do you tell the difference between the equal to and assignment operators?Describe a condition and when you would use one."
   ]
  },
  {
   "cell_type": "markdown",
   "id": "59ca0524",
   "metadata": {},
   "source": [
    "The only difference between equal to(==) and assignment operator(=) is the frequency i.e. in assignment operator the it is (=) single  whereas in case of equal to(which is a comparison operator it's(==)). "
   ]
  },
  {
   "cell_type": "code",
   "execution_count": 7,
   "id": "73422b62",
   "metadata": {},
   "outputs": [],
   "source": [
    "#Example of assignment operator'='\n",
    "a=10"
   ]
  },
  {
   "cell_type": "markdown",
   "id": "0d5b4d88",
   "metadata": {},
   "source": [
    "a"
   ]
  },
  {
   "cell_type": "code",
   "execution_count": 19,
   "id": "6bce6348",
   "metadata": {},
   "outputs": [],
   "source": [
    "#Example of comparison operator '=='\n",
    "val=20\n",
    "numb=20"
   ]
  },
  {
   "cell_type": "code",
   "execution_count": 20,
   "id": "1e8ba5b0",
   "metadata": {},
   "outputs": [],
   "source": [
    "compare=val==numb"
   ]
  },
  {
   "cell_type": "code",
   "execution_count": 21,
   "id": "7050e030",
   "metadata": {},
   "outputs": [
    {
     "data": {
      "text/plain": [
       "True"
      ]
     },
     "execution_count": 21,
     "metadata": {},
     "output_type": "execute_result"
    }
   ],
   "source": [
    "compare"
   ]
  },
  {
   "cell_type": "markdown",
   "id": "0c885bfa",
   "metadata": {},
   "source": [
    "7.) Identify the three blocks in this code:\n",
    "spam = 0\n",
    "if spam == 10:\n",
    "    print('eggs')\n",
    "        if spam > 5:\n",
    "            print('bacon')\n",
    "else:\n",
    "    print('ham')\n",
    "    print('spam')\n",
    "    print('spam')\n"
   ]
  },
  {
   "cell_type": "code",
   "execution_count": 37,
   "id": "a435b8a9",
   "metadata": {},
   "outputs": [
    {
     "name": "stdout",
     "output_type": "stream",
     "text": [
      "ham\n",
      "spam\n",
      "spam\n"
     ]
    }
   ],
   "source": [
    "spam = 0\n",
    "if spam == 10:\n",
    "    print('eggs')#BLOCK 1\n",
    "if spam > 5:\n",
    "    print('bacon')#BLOCK 2\n",
    "else:\n",
    "    print('ham')# BLOCK 3\n",
    "    print('spam')\n",
    "    print('spam')\n"
   ]
  },
  {
   "cell_type": "markdown",
   "id": "15bcbf26",
   "metadata": {},
   "source": [
    "8. Write code that prints Hello if 1 is stored in spam, prints Howdy if 2 is stored in spam, and prints Greetings! if anything else is stored in spam."
   ]
  },
  {
   "cell_type": "code",
   "execution_count": 46,
   "id": "6fbf261a",
   "metadata": {},
   "outputs": [
    {
     "name": "stdout",
     "output_type": "stream",
     "text": [
      "input a number1\n",
      "hello\n"
     ]
    }
   ],
   "source": [
    "spam=int(input(\"input a number\"))\n",
    "if spam==1:\n",
    "    print(\"hello\")\n",
    "elif spam==2:\n",
    "    print(\"howdy\")\n",
    "else:\n",
    "    print(\"greetings !\")\n",
    "    \n"
   ]
  },
  {
   "cell_type": "markdown",
   "id": "67752334",
   "metadata": {},
   "source": [
    "9.If your programme is stuck in an endless loop, what keys you’ll press?"
   ]
  },
  {
   "cell_type": "markdown",
   "id": "8d01039d",
   "metadata": {},
   "source": [
    "We can come out of an endless loop in a program by pressing Ctrl+C"
   ]
  },
  {
   "cell_type": "markdown",
   "id": "6bbfe6d9",
   "metadata": {},
   "source": [
    "10. How can you tell the difference between break and continue?"
   ]
  },
  {
   "cell_type": "code",
   "execution_count": 48,
   "id": "2b0e9199",
   "metadata": {},
   "outputs": [
    {
     "name": "stdout",
     "output_type": "stream",
     "text": [
      "0\n",
      "1\n",
      "2\n",
      "3\n",
      "4\n"
     ]
    }
   ],
   "source": [
    "#use of break\n",
    "for i in range(10):\n",
    "    if(i==5):\n",
    "        break\n",
    "    print(i)"
   ]
  },
  {
   "cell_type": "code",
   "execution_count": 51,
   "id": "7c2e3fc0",
   "metadata": {},
   "outputs": [
    {
     "name": "stdout",
     "output_type": "stream",
     "text": [
      "0\n",
      "1\n",
      "2\n",
      "3\n",
      "4\n",
      "5\n",
      "6\n",
      "7\n",
      "9\n"
     ]
    }
   ],
   "source": [
    "# use of continue\n",
    "for i in range(10):\n",
    "    if(i==8):\n",
    "        continue\n",
    "    print(i)"
   ]
  },
  {
   "cell_type": "markdown",
   "id": "961bb180",
   "metadata": {},
   "source": [
    "11. In a for loop, what is the difference between range(10), range(0, 10), and range(0, 10, 1)?"
   ]
  },
  {
   "cell_type": "code",
   "execution_count": 54,
   "id": "54572e02",
   "metadata": {},
   "outputs": [
    {
     "name": "stdout",
     "output_type": "stream",
     "text": [
      "0\n",
      "1\n",
      "2\n",
      "3\n",
      "4\n",
      "5\n",
      "6\n",
      "7\n",
      "8\n",
      "9\n",
      "---------------\n",
      "0\n",
      "1\n",
      "2\n",
      "3\n",
      "4\n",
      "5\n",
      "6\n",
      "7\n",
      "8\n",
      "9\n",
      "----------------\n",
      "0\n",
      "1\n",
      "2\n",
      "3\n",
      "4\n",
      "5\n",
      "6\n",
      "7\n",
      "8\n",
      "9\n"
     ]
    }
   ],
   "source": [
    "for i in range(10):\n",
    "    print(i)\n",
    "print(\"---------------\")\n",
    "for i in range(0,10):\n",
    "    print(i)\n",
    "print(\"----------------\")\n",
    "for i in range(0,10,1):\n",
    "    print(i)"
   ]
  },
  {
   "cell_type": "markdown",
   "id": "7c4f5af4",
   "metadata": {},
   "source": [
    "The range (10) calls values from 0 upto 10(does not include 10),\n",
    "range(1,10) tells the loop to start from 0 and go till 10(excluding upper limit)\n",
    "range(0,1,10) tells the loop to increase the value by 1 on each iteration"
   ]
  },
  {
   "cell_type": "markdown",
   "id": "fceb9ff2",
   "metadata": {},
   "source": [
    "12. Write a short program that prints the numbers 1 to 10 using a for loop. Then write an equivalent program that prints the numbers 1 to 10 using a while loop."
   ]
  },
  {
   "cell_type": "code",
   "execution_count": 55,
   "id": "ad07f8cf",
   "metadata": {},
   "outputs": [
    {
     "name": "stdout",
     "output_type": "stream",
     "text": [
      "for loop\n",
      "1\n",
      "2\n",
      "3\n",
      "4\n",
      "5\n",
      "6\n",
      "7\n",
      "8\n",
      "9\n",
      "10\n",
      "while loop\n",
      "1\n",
      "2\n",
      "3\n",
      "4\n",
      "5\n",
      "6\n",
      "7\n",
      "8\n",
      "9\n",
      "10\n"
     ]
    }
   ],
   "source": [
    "#for loop\n",
    "print(\"for loop\")\n",
    "for i in range(1,11):\n",
    "    print(i)\n",
    "#while loop\n",
    "print(\"while loop\")\n",
    "a=1\n",
    "while a<=10:\n",
    "    print(a)\n",
    "    a+=1"
   ]
  },
  {
   "cell_type": "markdown",
   "id": "741722f3",
   "metadata": {},
   "source": [
    "13. If you had a function named bacon() inside a module named spam, how would you call it after importing spam?"
   ]
  },
  {
   "cell_type": "markdown",
   "id": "48cd0613",
   "metadata": {},
   "source": [
    "the function can be called by spam.bacon()."
   ]
  }
 ],
 "metadata": {
  "kernelspec": {
   "display_name": "Python 3 (ipykernel)",
   "language": "python",
   "name": "python3"
  },
  "language_info": {
   "codemirror_mode": {
    "name": "ipython",
    "version": 3
   },
   "file_extension": ".py",
   "mimetype": "text/x-python",
   "name": "python",
   "nbconvert_exporter": "python",
   "pygments_lexer": "ipython3",
   "version": "3.9.13"
  }
 },
 "nbformat": 4,
 "nbformat_minor": 5
}
